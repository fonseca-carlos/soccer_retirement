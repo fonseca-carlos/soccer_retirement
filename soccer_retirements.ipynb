{
 "metadata": {
  "language_info": {
   "codemirror_mode": {
    "name": "ipython",
    "version": 3
   },
   "file_extension": ".py",
   "mimetype": "text/x-python",
   "name": "python",
   "nbconvert_exporter": "python",
   "pygments_lexer": "ipython3",
   "version": "3.8.8"
  },
  "orig_nbformat": 4,
  "kernelspec": {
   "name": "python3",
   "display_name": "Python 3.8.8 64-bit ('base': conda)"
  },
  "interpreter": {
   "hash": "d8d5601d96422ebfec8c033418a5d34fdcddf32276dfaebcd24fcc0aa071da1b"
  }
 },
 "nbformat": 4,
 "nbformat_minor": 2,
 "cells": [
  {
   "cell_type": "code",
   "execution_count": 16,
   "metadata": {},
   "outputs": [],
   "source": [
    "import numpy as np\n",
    "import pandas as pd\n",
    "from sklearn import model_selection\n",
    "import matplotlib.pyplot as plt\n",
    "import lifelines\n",
    "from sklearn.linear_model import LogisticRegression\n",
    "from sklearn.metrics import f1_score, accuracy_score, roc_auc_score, precision_score, recall_score, r2_score\n",
    "from sklearn import preprocessing\n",
    "from sklearn.ensemble import RandomForestClassifier"
   ]
  },
  {
   "cell_type": "code",
   "execution_count": 2,
   "metadata": {},
   "outputs": [
    {
     "output_type": "execute_result",
     "data": {
      "text/plain": [
       "   player_id  game_id league_id  goals  assists  minutes_played\n",
       "1      84938  2581152        L1      0        0              90"
      ],
      "text/html": "<div>\n<style scoped>\n    .dataframe tbody tr th:only-of-type {\n        vertical-align: middle;\n    }\n\n    .dataframe tbody tr th {\n        vertical-align: top;\n    }\n\n    .dataframe thead th {\n        text-align: right;\n    }\n</style>\n<table border=\"1\" class=\"dataframe\">\n  <thead>\n    <tr style=\"text-align: right;\">\n      <th></th>\n      <th>player_id</th>\n      <th>game_id</th>\n      <th>league_id</th>\n      <th>goals</th>\n      <th>assists</th>\n      <th>minutes_played</th>\n    </tr>\n  </thead>\n  <tbody>\n    <tr>\n      <th>1</th>\n      <td>84938</td>\n      <td>2581152</td>\n      <td>L1</td>\n      <td>0</td>\n      <td>0</td>\n      <td>90</td>\n    </tr>\n  </tbody>\n</table>\n</div>"
     },
     "metadata": {},
     "execution_count": 2
    }
   ],
   "source": [
    "#importing data\n",
    "players=pd.read_csv(\"data/players.csv\")\n",
    "players=players[[\"player_id\", \"pretty_name\", \"date_of_birth\", \"position\", \"sub_position\"]]\n",
    "\n",
    "appearances=pd.read_csv(\"data/appearances.csv\")\n",
    "appearances=appearances[[\"player_id\", \"game_id\", \"league_id\", \"goals\", \"assists\", \"minutes_played\"]]\n",
    "appearances=appearances[(appearances[\"league_id\"] == \"L1\") | (appearances[\"league_id\"] == \"ES1\") | (appearances[\"league_id\"] == \"FR1\") | (appearances[\"league_id\"] == \"GB1\") | (appearances[\"league_id\"] == \"IT1\")]\n",
    "\n",
    "games=pd.read_csv(\"data/games.csv\")\n",
    "games=games[[\"game_id\", \"season\", \"date\"]]\n",
    "games=games[games[\"season\"]>2014]\n",
    "appearances.head(1)"
   ]
  },
  {
   "cell_type": "code",
   "execution_count": 3,
   "metadata": {},
   "outputs": [
    {
     "output_type": "execute_result",
     "data": {
      "text/plain": [
       "   player_id  game_id league_id  goals  assists  minutes_played  season  \\\n",
       "0      84938  2581152        L1      0        0              90    2015   \n",
       "1      50512  2581152        L1      1        1              90    2015   \n",
       "\n",
       "         date  \n",
       "0  2015-08-16  \n",
       "1  2015-08-16  "
      ],
      "text/html": "<div>\n<style scoped>\n    .dataframe tbody tr th:only-of-type {\n        vertical-align: middle;\n    }\n\n    .dataframe tbody tr th {\n        vertical-align: top;\n    }\n\n    .dataframe thead th {\n        text-align: right;\n    }\n</style>\n<table border=\"1\" class=\"dataframe\">\n  <thead>\n    <tr style=\"text-align: right;\">\n      <th></th>\n      <th>player_id</th>\n      <th>game_id</th>\n      <th>league_id</th>\n      <th>goals</th>\n      <th>assists</th>\n      <th>minutes_played</th>\n      <th>season</th>\n      <th>date</th>\n    </tr>\n  </thead>\n  <tbody>\n    <tr>\n      <th>0</th>\n      <td>84938</td>\n      <td>2581152</td>\n      <td>L1</td>\n      <td>0</td>\n      <td>0</td>\n      <td>90</td>\n      <td>2015</td>\n      <td>2015-08-16</td>\n    </tr>\n    <tr>\n      <th>1</th>\n      <td>50512</td>\n      <td>2581152</td>\n      <td>L1</td>\n      <td>1</td>\n      <td>1</td>\n      <td>90</td>\n      <td>2015</td>\n      <td>2015-08-16</td>\n    </tr>\n  </tbody>\n</table>\n</div>"
     },
     "metadata": {},
     "execution_count": 3
    }
   ],
   "source": [
    "#adding games data to appearances\n",
    "\n",
    "appearances=appearances.merge(games, on=\"game_id\", how=\"inner\")\n",
    "appearances.head(2)"
   ]
  },
  {
   "cell_type": "code",
   "execution_count": 4,
   "metadata": {},
   "outputs": [
    {
     "output_type": "execute_result",
     "data": {
      "text/plain": [
       "   player_id  season league_id        date\n",
       "0     167189    2015        L1  2015-08-29\n",
       "1      85867    2015        L1  2015-09-19\n",
       "2     263685    2015        L1  2015-10-31"
      ],
      "text/html": "<div>\n<style scoped>\n    .dataframe tbody tr th:only-of-type {\n        vertical-align: middle;\n    }\n\n    .dataframe tbody tr th {\n        vertical-align: top;\n    }\n\n    .dataframe thead th {\n        text-align: right;\n    }\n</style>\n<table border=\"1\" class=\"dataframe\">\n  <thead>\n    <tr style=\"text-align: right;\">\n      <th></th>\n      <th>player_id</th>\n      <th>season</th>\n      <th>league_id</th>\n      <th>date</th>\n    </tr>\n  </thead>\n  <tbody>\n    <tr>\n      <th>0</th>\n      <td>167189</td>\n      <td>2015</td>\n      <td>L1</td>\n      <td>2015-08-29</td>\n    </tr>\n    <tr>\n      <th>1</th>\n      <td>85867</td>\n      <td>2015</td>\n      <td>L1</td>\n      <td>2015-09-19</td>\n    </tr>\n    <tr>\n      <th>2</th>\n      <td>263685</td>\n      <td>2015</td>\n      <td>L1</td>\n      <td>2015-10-31</td>\n    </tr>\n  </tbody>\n</table>\n</div>"
     },
     "metadata": {},
     "execution_count": 4
    }
   ],
   "source": [
    "#creating each player final club for the season. That will be considered his season's club\n",
    "\n",
    "last_game=pd.DataFrame(appearances.groupby([\"player_id\", \"season\"])[\"date\"].max()).reset_index()\n",
    "players_league=appearances.merge(last_game, on=[\"player_id\", \"season\", \"date\"], how=\"inner\")[[\"player_id\", \"season\", 'league_id', 'date']]\n",
    "players_league.head(3)"
   ]
  },
  {
   "cell_type": "code",
   "execution_count": 5,
   "metadata": {},
   "outputs": [
    {
     "output_type": "stream",
     "name": "stderr",
     "text": [
      "<ipython-input-5-6a29a8ec7242>:3: FutureWarning: Indexing with multiple keys (implicitly converted to a tuple of keys) will be deprecated, use a list instead.\n  stats=appearances.groupby([\"player_id\", \"season\"])[\"goals\", \"assists\", \"minutes_played\"].sum().reset_index()\n"
     ]
    },
    {
     "output_type": "execute_result",
     "data": {
      "text/plain": [
       "   player_id  season  goals  assists  minutes_played\n",
       "0         10    2015      7        7            1360\n",
       "1         26    2015      0        0              90\n",
       "2         26    2016      0        0             630\n",
       "3         26    2017      0        0              91"
      ],
      "text/html": "<div>\n<style scoped>\n    .dataframe tbody tr th:only-of-type {\n        vertical-align: middle;\n    }\n\n    .dataframe tbody tr th {\n        vertical-align: top;\n    }\n\n    .dataframe thead th {\n        text-align: right;\n    }\n</style>\n<table border=\"1\" class=\"dataframe\">\n  <thead>\n    <tr style=\"text-align: right;\">\n      <th></th>\n      <th>player_id</th>\n      <th>season</th>\n      <th>goals</th>\n      <th>assists</th>\n      <th>minutes_played</th>\n    </tr>\n  </thead>\n  <tbody>\n    <tr>\n      <th>0</th>\n      <td>10</td>\n      <td>2015</td>\n      <td>7</td>\n      <td>7</td>\n      <td>1360</td>\n    </tr>\n    <tr>\n      <th>1</th>\n      <td>26</td>\n      <td>2015</td>\n      <td>0</td>\n      <td>0</td>\n      <td>90</td>\n    </tr>\n    <tr>\n      <th>2</th>\n      <td>26</td>\n      <td>2016</td>\n      <td>0</td>\n      <td>0</td>\n      <td>630</td>\n    </tr>\n    <tr>\n      <th>3</th>\n      <td>26</td>\n      <td>2017</td>\n      <td>0</td>\n      <td>0</td>\n      <td>91</td>\n    </tr>\n  </tbody>\n</table>\n</div>"
     },
     "metadata": {},
     "execution_count": 5
    }
   ],
   "source": [
    "#creating the player season stats\n",
    "\n",
    "stats=appearances.groupby([\"player_id\", \"season\"])[\"goals\", \"assists\", \"minutes_played\"].sum().reset_index()\n",
    "stats.head(4)"
   ]
  },
  {
   "cell_type": "code",
   "execution_count": 6,
   "metadata": {},
   "outputs": [],
   "source": [
    "#now, to create the career average stats (biggest issue here, with the small history. Life = since 15/16 season only)\n",
    "#starting with loop to aggregate previous results\n",
    "\n",
    "player_id=[]\n",
    "season=[]\n",
    "goals_pre=[]\n",
    "assists_pre=[]\n",
    "minutes_played=[]\n",
    "\n",
    "for player in np.unique(stats.player_id):\n",
    "    for year in np.unique(stats.season):\n",
    "        df_temp=stats[(stats[\"player_id\"]==player) & (stats[\"season\"]<year)]\n",
    "        if df_temp.shape[0]==0:\n",
    "            continue\n",
    "        player_id.append(player)\n",
    "        season.append(year)\n",
    "        goals_pre.append(df_temp.groupby(\"player_id\")[\"goals\"].sum().values[0]/len(np.unique(df_temp.season)))\n",
    "        assists_pre.append(df_temp.groupby(\"player_id\")[\"assists\"].sum().values[0]/len(np.unique(df_temp.season)))\n",
    "        minutes_played.append(df_temp.groupby(\"player_id\")[\"minutes_played\"].sum().values[0]/len(np.unique(df_temp.season)))\n",
    "\n",
    "\n"
   ]
  },
  {
   "cell_type": "code",
   "execution_count": 8,
   "metadata": {},
   "outputs": [
    {
     "output_type": "execute_result",
     "data": {
      "text/plain": [
       "   player_id  season  goals_pre  assists_pre  minutes_pre\n",
       "0         10    2016        7.0          7.0  1360.000000\n",
       "1         10    2017        7.0          7.0  1360.000000\n",
       "2         10    2018        7.0          7.0  1360.000000\n",
       "3         10    2019        7.0          7.0  1360.000000\n",
       "4         10    2020        7.0          7.0  1360.000000\n",
       "5         10    2021        7.0          7.0  1360.000000\n",
       "6         26    2016        0.0          0.0    90.000000\n",
       "7         26    2017        0.0          0.0   360.000000\n",
       "8         26    2018        0.0          0.0   270.333333\n",
       "9         26    2019        0.0          0.0   270.333333"
      ],
      "text/html": "<div>\n<style scoped>\n    .dataframe tbody tr th:only-of-type {\n        vertical-align: middle;\n    }\n\n    .dataframe tbody tr th {\n        vertical-align: top;\n    }\n\n    .dataframe thead th {\n        text-align: right;\n    }\n</style>\n<table border=\"1\" class=\"dataframe\">\n  <thead>\n    <tr style=\"text-align: right;\">\n      <th></th>\n      <th>player_id</th>\n      <th>season</th>\n      <th>goals_pre</th>\n      <th>assists_pre</th>\n      <th>minutes_pre</th>\n    </tr>\n  </thead>\n  <tbody>\n    <tr>\n      <th>0</th>\n      <td>10</td>\n      <td>2016</td>\n      <td>7.0</td>\n      <td>7.0</td>\n      <td>1360.000000</td>\n    </tr>\n    <tr>\n      <th>1</th>\n      <td>10</td>\n      <td>2017</td>\n      <td>7.0</td>\n      <td>7.0</td>\n      <td>1360.000000</td>\n    </tr>\n    <tr>\n      <th>2</th>\n      <td>10</td>\n      <td>2018</td>\n      <td>7.0</td>\n      <td>7.0</td>\n      <td>1360.000000</td>\n    </tr>\n    <tr>\n      <th>3</th>\n      <td>10</td>\n      <td>2019</td>\n      <td>7.0</td>\n      <td>7.0</td>\n      <td>1360.000000</td>\n    </tr>\n    <tr>\n      <th>4</th>\n      <td>10</td>\n      <td>2020</td>\n      <td>7.0</td>\n      <td>7.0</td>\n      <td>1360.000000</td>\n    </tr>\n    <tr>\n      <th>5</th>\n      <td>10</td>\n      <td>2021</td>\n      <td>7.0</td>\n      <td>7.0</td>\n      <td>1360.000000</td>\n    </tr>\n    <tr>\n      <th>6</th>\n      <td>26</td>\n      <td>2016</td>\n      <td>0.0</td>\n      <td>0.0</td>\n      <td>90.000000</td>\n    </tr>\n    <tr>\n      <th>7</th>\n      <td>26</td>\n      <td>2017</td>\n      <td>0.0</td>\n      <td>0.0</td>\n      <td>360.000000</td>\n    </tr>\n    <tr>\n      <th>8</th>\n      <td>26</td>\n      <td>2018</td>\n      <td>0.0</td>\n      <td>0.0</td>\n      <td>270.333333</td>\n    </tr>\n    <tr>\n      <th>9</th>\n      <td>26</td>\n      <td>2019</td>\n      <td>0.0</td>\n      <td>0.0</td>\n      <td>270.333333</td>\n    </tr>\n  </tbody>\n</table>\n</div>"
     },
     "metadata": {},
     "execution_count": 8
    }
   ],
   "source": [
    "past_stats=pd.DataFrame(player_id, columns=['player_id'])\n",
    "past_stats[\"season\"]=season\n",
    "past_stats[\"goals_pre\"]=goals_pre\n",
    "past_stats[\"assists_pre\"]=assists_pre\n",
    "past_stats[\"minutes_pre\"]=minutes_played\n",
    "past_stats.head(10)"
   ]
  },
  {
   "cell_type": "code",
   "execution_count": 9,
   "metadata": {},
   "outputs": [
    {
     "output_type": "execute_result",
     "data": {
      "text/plain": [
       "       player_id  season  goals  assists  minutes_played  season_last  \\\n",
       "0             10    2015      7        7            1360          0.0   \n",
       "1             26    2015      0        0              90          0.0   \n",
       "2             26    2016      0        0             630       2015.0   \n",
       "3             26    2017      0        0              91       2016.0   \n",
       "4             80    2016      0        0             270          0.0   \n",
       "...          ...     ...    ...      ...             ...          ...   \n",
       "17143     855607    2021      0        0              11          0.0   \n",
       "17144     862880    2020      0        0              42          0.0   \n",
       "17145     882772    2020      0        0              34          0.0   \n",
       "17146     894205    2020      0        0              29          0.0   \n",
       "17147     917120    2021      0        0              48          0.0   \n",
       "\n",
       "       goals_last  assists_last  minutes_last  \n",
       "0             0.0           0.0           0.0  \n",
       "1             0.0           0.0           0.0  \n",
       "2             0.0           0.0          90.0  \n",
       "3             0.0           0.0         630.0  \n",
       "4             0.0           0.0           0.0  \n",
       "...           ...           ...           ...  \n",
       "17143         0.0           0.0           0.0  \n",
       "17144         0.0           0.0           0.0  \n",
       "17145         0.0           0.0           0.0  \n",
       "17146         0.0           0.0           0.0  \n",
       "17147         0.0           0.0           0.0  \n",
       "\n",
       "[17148 rows x 9 columns]"
      ],
      "text/html": "<div>\n<style scoped>\n    .dataframe tbody tr th:only-of-type {\n        vertical-align: middle;\n    }\n\n    .dataframe tbody tr th {\n        vertical-align: top;\n    }\n\n    .dataframe thead th {\n        text-align: right;\n    }\n</style>\n<table border=\"1\" class=\"dataframe\">\n  <thead>\n    <tr style=\"text-align: right;\">\n      <th></th>\n      <th>player_id</th>\n      <th>season</th>\n      <th>goals</th>\n      <th>assists</th>\n      <th>minutes_played</th>\n      <th>season_last</th>\n      <th>goals_last</th>\n      <th>assists_last</th>\n      <th>minutes_last</th>\n    </tr>\n  </thead>\n  <tbody>\n    <tr>\n      <th>0</th>\n      <td>10</td>\n      <td>2015</td>\n      <td>7</td>\n      <td>7</td>\n      <td>1360</td>\n      <td>0.0</td>\n      <td>0.0</td>\n      <td>0.0</td>\n      <td>0.0</td>\n    </tr>\n    <tr>\n      <th>1</th>\n      <td>26</td>\n      <td>2015</td>\n      <td>0</td>\n      <td>0</td>\n      <td>90</td>\n      <td>0.0</td>\n      <td>0.0</td>\n      <td>0.0</td>\n      <td>0.0</td>\n    </tr>\n    <tr>\n      <th>2</th>\n      <td>26</td>\n      <td>2016</td>\n      <td>0</td>\n      <td>0</td>\n      <td>630</td>\n      <td>2015.0</td>\n      <td>0.0</td>\n      <td>0.0</td>\n      <td>90.0</td>\n    </tr>\n    <tr>\n      <th>3</th>\n      <td>26</td>\n      <td>2017</td>\n      <td>0</td>\n      <td>0</td>\n      <td>91</td>\n      <td>2016.0</td>\n      <td>0.0</td>\n      <td>0.0</td>\n      <td>630.0</td>\n    </tr>\n    <tr>\n      <th>4</th>\n      <td>80</td>\n      <td>2016</td>\n      <td>0</td>\n      <td>0</td>\n      <td>270</td>\n      <td>0.0</td>\n      <td>0.0</td>\n      <td>0.0</td>\n      <td>0.0</td>\n    </tr>\n    <tr>\n      <th>...</th>\n      <td>...</td>\n      <td>...</td>\n      <td>...</td>\n      <td>...</td>\n      <td>...</td>\n      <td>...</td>\n      <td>...</td>\n      <td>...</td>\n      <td>...</td>\n    </tr>\n    <tr>\n      <th>17143</th>\n      <td>855607</td>\n      <td>2021</td>\n      <td>0</td>\n      <td>0</td>\n      <td>11</td>\n      <td>0.0</td>\n      <td>0.0</td>\n      <td>0.0</td>\n      <td>0.0</td>\n    </tr>\n    <tr>\n      <th>17144</th>\n      <td>862880</td>\n      <td>2020</td>\n      <td>0</td>\n      <td>0</td>\n      <td>42</td>\n      <td>0.0</td>\n      <td>0.0</td>\n      <td>0.0</td>\n      <td>0.0</td>\n    </tr>\n    <tr>\n      <th>17145</th>\n      <td>882772</td>\n      <td>2020</td>\n      <td>0</td>\n      <td>0</td>\n      <td>34</td>\n      <td>0.0</td>\n      <td>0.0</td>\n      <td>0.0</td>\n      <td>0.0</td>\n    </tr>\n    <tr>\n      <th>17146</th>\n      <td>894205</td>\n      <td>2020</td>\n      <td>0</td>\n      <td>0</td>\n      <td>29</td>\n      <td>0.0</td>\n      <td>0.0</td>\n      <td>0.0</td>\n      <td>0.0</td>\n    </tr>\n    <tr>\n      <th>17147</th>\n      <td>917120</td>\n      <td>2021</td>\n      <td>0</td>\n      <td>0</td>\n      <td>48</td>\n      <td>0.0</td>\n      <td>0.0</td>\n      <td>0.0</td>\n      <td>0.0</td>\n    </tr>\n  </tbody>\n</table>\n<p>17148 rows × 9 columns</p>\n</div>"
     },
     "metadata": {},
     "execution_count": 9
    }
   ],
   "source": [
    "stats['season_last'] = stats.groupby(['player_id'])['season'].shift()\n",
    "stats['goals_last'] = stats.groupby(['player_id'])['goals'].shift()\n",
    "stats['assists_last'] = stats.groupby(['player_id'])['assists'].shift()\n",
    "stats['minutes_last'] = stats.groupby(['player_id'])['minutes_played'].shift()\n",
    "\n",
    "for column in ['season_last', 'goals_last', 'assists_last', 'minutes_last']:\n",
    "    stats[column]=np.where(stats['season']-stats['season_last']==1, stats[column], 0)\n",
    "stats"
   ]
  },
  {
   "cell_type": "code",
   "execution_count": 14,
   "metadata": {},
   "outputs": [],
   "source": [
    "#join to the past stats to the stats, and them to the player data\n",
    "\n",
    "total_stats=stats.merge(past_stats, on=['player_id', 'season'], how='inner')\n",
    "abt=total_stats.merge(players_league, on=['player_id', 'season'])\n",
    "abt=abt.merge(players, on=['player_id'])\n",
    "abt['date']=pd.to_datetime(abt['date'])\n",
    "abt['date_of_birth']=pd.to_datetime(abt['date_of_birth'])\n",
    "abt['age_dif']=abt['date']-abt['date_of_birth']\n",
    "abt['age']=[round(x.days/365,1) for x in abt['age_dif']]\n",
    "abt=abt.drop('age_dif', axis=1)\n",
    "abt['sub_position']=abt['sub_position'].fillna(0)\n",
    "abt['next_season_played']=abt.groupby(['player_id'])['season'].shift(-1)\n",
    "abt['next_season_played']=np.where(abt['next_season_played']>0, 1, 0)\n",
    "abt=abt.dropna()\n",
    "abt=abt[abt[\"season\"]>2015]\n",
    "abt=abt[abt[\"season\"]<2021]\n"
   ]
  },
  {
   "cell_type": "code",
   "execution_count": 15,
   "metadata": {},
   "outputs": [
    {
     "output_type": "stream",
     "name": "stdout",
     "text": [
      "train accuracy= 0.8335075797177208\ntest accuracy= 0.6054389312977099\n"
     ]
    }
   ],
   "source": [
    "#trying linear regressor\n",
    "scaler=preprocessing.StandardScaler()\n",
    "\n",
    "X=abt[abt[\"season\"]<2020].drop([\"player_id\", \"season\", \"season_last\", \"date\", \"pretty_name\", \"date_of_birth\", \"next_season_played\"], axis=1)\n",
    "X = pd.get_dummies(X, columns=[\"league_id\", \"position\", \"sub_position\"], drop_first=True)\n",
    "X=pd.DataFrame(scaler.fit_transform(X), columns=X.columns)\n",
    "y=abt[abt[\"season\"]<2020][\"next_season_played\"]\n",
    "X_test=abt[abt[\"season\"]==2020].drop([\"player_id\", \"season\", \"season_last\", \"date\", \"pretty_name\", \"date_of_birth\", \"next_season_played\"], axis=1)\n",
    "X_test = pd.get_dummies(X_test, columns=[\"league_id\", \"position\", \"sub_position\"], drop_first=True)\n",
    "X_test=pd.DataFrame(scaler.transform(X_test), columns=X.columns)\n",
    "y_test=abt[abt[\"season\"]==2020][\"next_season_played\"]\n",
    "\n",
    "\n",
    "reg=LogisticRegression()\n",
    "reg.fit(X,y)\n",
    "print('train accuracy=', accuracy_score(y, reg.predict(X)))\n",
    "print('test accuracy=', accuracy_score(y_test, reg.predict(X_test)))"
   ]
  },
  {
   "cell_type": "code",
   "execution_count": 17,
   "metadata": {},
   "outputs": [
    {
     "output_type": "stream",
     "name": "stdout",
     "text": [
      "train accuracy= 0.9998693152117094\ntest accuracy= 0.6111641221374046\n"
     ]
    }
   ],
   "source": [
    "#trying random forest\n",
    "\n",
    "forest=RandomForestClassifier()\n",
    "forest.fit(X,y)\n",
    "print('train accuracy=', accuracy_score(y, forest.predict(X)))\n",
    "print('test accuracy=', accuracy_score(y_test, forest.predict(X_test)))"
   ]
  },
  {
   "cell_type": "code",
   "execution_count": 107,
   "metadata": {},
   "outputs": [
    {
     "output_type": "execute_result",
     "data": {
      "text/plain": [
       "next_season_played\n",
       "0     954\n",
       "1    1142\n",
       "dtype: int64"
      ]
     },
     "metadata": {},
     "execution_count": 107
    }
   ],
   "source": [
    "pd.DataFrame(y_test).groupby(\"next_season_played\").size()\n"
   ]
  }
 ]
}